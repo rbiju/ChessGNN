{
 "cells": [
  {
   "cell_type": "code",
   "id": "9ab81fa02aae4c57",
   "metadata": {
    "ExecuteTime": {
     "end_time": "2025-05-22T02:46:28.317130Z",
     "start_time": "2025-05-22T02:46:26.328745Z"
    }
   },
   "source": [
    "import chess.svg\n",
    "import einops\n",
    "import numpy as np\n",
    "from pathlib import Path\n",
    "import torch\n",
    "\n",
    "from chess_gnn.inference import ChessBoardPredictor\n",
    "from chess_gnn.models import ChessTransformer\n",
    "from chess_gnn.utils import PGNBoardHelper, ChessPoint"
   ],
   "outputs": [],
   "execution_count": 1
  },
  {
   "cell_type": "code",
   "id": "db41029adeaf95f5",
   "metadata": {
    "ExecuteTime": {
     "end_time": "2025-05-22T02:46:28.320407Z",
     "start_time": "2025-05-22T02:46:28.318059Z"
    }
   },
   "source": [
    "class AttentionMapGetter:\n",
    "    def __init__(self, attn_matrix: np.ndarray):\n",
    "        self.attn_matrix = attn_matrix\n",
    "    \n",
    "    def get_attention_map(self, query: str):\n",
    "        if query.lower() == 'cls':\n",
    "            point_idx = 0\n",
    "        else:\n",
    "            point = ChessPoint.from_square(query)\n",
    "            point_idx = point.to_str_position() + 1\n",
    "    \n",
    "        attention = einops.rearrange(self.attn_matrix[point_idx][1:], '(h w) -> h w', h=8)\n",
    "        return attention\n",
    "        "
   ],
   "outputs": [],
   "execution_count": 2
  },
  {
   "cell_type": "code",
   "id": "c3630208907ac777",
   "metadata": {
    "ExecuteTime": {
     "end_time": "2025-05-22T02:46:28.513133Z",
     "start_time": "2025-05-22T02:46:28.321281Z"
    }
   },
   "source": [
    "import dash\n",
    "from dash import dcc, html, Input, Output, State\n",
    "import plotly.graph_objects as go\n",
    "import chess\n",
    "import chess.svg\n",
    "import base64\n",
    "\n",
    "def create_game_attention_app(boards: list[chess.Board], attn_maps: list[AttentionMapGetter]):\n",
    "    assert len(boards) == len(attn_maps), \"Boards and attention maps must be same length\"\n",
    "\n",
    "    app = dash.Dash(__name__)\n",
    "    num_moves = len(boards)\n",
    "    default_square = \"a1\"\n",
    "    default_idx = 0\n",
    "\n",
    "    def get_svg_images(board: chess.Board):\n",
    "        images = []\n",
    "        for idx in range(64):\n",
    "            piece = board.piece_at(idx)\n",
    "            point = ChessPoint.from_1d(idx)\n",
    "            if piece:\n",
    "                svg = chess.svg.piece(piece)\n",
    "                svg_bytes = svg.encode('utf-8')\n",
    "                uri = f\"data:image/svg+xml;base64,{base64.b64encode(svg_bytes).decode('utf-8')}\"\n",
    "                images.append(dict(\n",
    "                    source=uri,\n",
    "                    xref=\"x\", yref=\"y\",\n",
    "                    x=point.x,\n",
    "                    y=point.y,\n",
    "                    sizex=0.9, sizey=0.9,\n",
    "                    xanchor=\"center\", yanchor=\"middle\",\n",
    "                    layer=\"above\"\n",
    "                ))\n",
    "        return images\n",
    "\n",
    "    def create_figure(board: chess.Board, attention: np.ndarray, highlight_square: str | None = None):\n",
    "        fig = go.Figure(data=go.Heatmap(\n",
    "            z=attention,\n",
    "            x=list(range(8)),\n",
    "            y=list(range(8)),\n",
    "            colorscale='Viridis',\n",
    "            hoverongaps=False,\n",
    "            opacity=0.5\n",
    "        ))\n",
    "        fig.update_layout(\n",
    "            yaxis=dict(scaleanchor=\"x\", scaleratio=1),\n",
    "            xaxis=dict(constrain='domain'),\n",
    "            images=get_svg_images(board),\n",
    "            shapes=[]\n",
    "        )\n",
    "    \n",
    "        if highlight_square and highlight_square != 'cls':\n",
    "            # Calculate col and row of the square\n",
    "            col, row = ChessPoint.from_square(highlight_square)\n",
    "            # Plotly rect corners: x0,y0 is bottom left, x1,y1 is top right\n",
    "            fig.update_layout(shapes=[dict(\n",
    "                type=\"rect\",\n",
    "                x0=col - 0.5, y0=row - 0.5,\n",
    "                x1=col + 0.5, y1=row + 0.5,\n",
    "                line=dict(color=\"red\", width=1),\n",
    "                fillcolor=\"rgba(255,0,0,0.2)\",\n",
    "                layer=\"above\"\n",
    "            )])\n",
    "        elif highlight_square == 'cls':\n",
    "            # Add a border somewhere meaningful to indicate cls is selected\n",
    "            fig.update_layout(shapes=[dict(\n",
    "                type=\"rect\",\n",
    "                x0=-0.5, y0=-1,\n",
    "                x1=7.5, y1=-0.6,\n",
    "                line=dict(color=\"red\", width=2),\n",
    "                fillcolor=\"rgba(255,0,0,0.2)\",\n",
    "                layer=\"above\"\n",
    "            )])\n",
    "    \n",
    "        return fig\n",
    "\n",
    "    app.layout = html.Div([\n",
    "        html.Div([\n",
    "            html.Button(\"Prev\", id=\"prev-btn\", n_clicks=0),\n",
    "            html.Button(\"Next\", id=\"next-btn\", n_clicks=0),\n",
    "            html.Span(id=\"move-label\", style={\"marginLeft\": \"1rem\"}),\n",
    "        ], style={\"marginBottom\": \"1rem\"}),\n",
    "\n",
    "        dcc.Store(id=\"current-index\", data=0),\n",
    "        dcc.Store(id=\"current-square\", data=default_square),\n",
    "\n",
    "        dcc.Graph(id='heatmap', figure=create_figure(boards[default_idx], attn_maps[default_idx].get_attention_map(default_square))),\n",
    "        \n",
    "        html.Div([\n",
    "            html.Button(\"CLS\", id=\"cls-btn\", n_clicks=0, style={\"marginTop\": \"10px\"})\n",
    "        ]),\n",
    "        \n",
    "        html.Div(id='click-output')\n",
    "    ])\n",
    "\n",
    "    @app.callback(\n",
    "        Output('current-index', 'data'),\n",
    "        Output('move-label', 'children'),\n",
    "        Input('prev-btn', 'n_clicks'),\n",
    "        Input('next-btn', 'n_clicks'),\n",
    "        State('current-index', 'data')\n",
    "    )\n",
    "    def update_index(prev, nxt, current):\n",
    "        ctx = dash.callback_context.triggered_id\n",
    "        if ctx == 'prev-btn':\n",
    "            current = max(0, current - 1)\n",
    "        elif ctx == 'next-btn':\n",
    "            current = min(num_moves - 1, current + 1)\n",
    "        \n",
    "        move_dict = {0: 'White', 1: 'Black'}\n",
    "        to_move = current % 2\n",
    "        return current, f\"Move: {current}/{num_moves - 1}     {move_dict[to_move]} to move\"\n",
    "\n",
    "    @app.callback(\n",
    "        Output('current-square', 'data'),\n",
    "        Output('click-output', 'children'),\n",
    "        Input('heatmap', 'clickData'),\n",
    "        Input('cls-btn', 'n_clicks'),\n",
    "        State('cls-btn', 'n_clicks_timestamp'),\n",
    "        State('heatmap', 'clickData'),\n",
    "        State('current-square', 'data'),\n",
    "        prevent_initial_call=True\n",
    "    )\n",
    "    def update_square(clickData, cls_clicks, cls_ts, heatmap_click, current_square):\n",
    "        ctx = dash.callback_context\n",
    "        if ctx.triggered_id == 'cls-btn':\n",
    "            return 'cls', \"Viewing attention from: cls\"\n",
    "        elif ctx.triggered_id == 'heatmap' and clickData and 'points' in clickData:\n",
    "            point = clickData['points'][0]\n",
    "            col = int(point['x'])\n",
    "            row = int(point['y']) + 1\n",
    "            file = chr(ord('a') + col)\n",
    "            rank = row\n",
    "            square = f\"{file}{rank}\"\n",
    "            return square, f\"Viewing attention from: {square}\"\n",
    "        return current_square, f\"Viewing attention from: {current_square}\"\n",
    "\n",
    "    @app.callback(\n",
    "        Output('heatmap', 'figure'),\n",
    "        Input('current-index', 'data'),\n",
    "        Input('current-square', 'data')\n",
    "    )\n",
    "    def update_figure(move_idx, square):\n",
    "        board = boards[move_idx]\n",
    "        attention = attn_maps[move_idx].get_attention_map(square)\n",
    "        return create_figure(board, attention, highlight_square=square)\n",
    "\n",
    "    return app"
   ],
   "outputs": [],
   "execution_count": 3
  },
  {
   "cell_type": "code",
   "id": "74c04b2b69142c0a",
   "metadata": {
    "ExecuteTime": {
     "end_time": "2025-05-22T17:28:52.907865Z",
     "start_time": "2025-05-22T17:28:37.661046Z"
    }
   },
   "source": [
    "pgn = PGNBoardHelper(Path('/Users/ray/Datasets/chess/Carlsen.pgn'))\n",
    "\n",
    "ckpt = torch.load('/Users/ray/models/chess/transformer/53a08909-5c4a-4232-bd8b-f0504a68bb14/last.ckpt', map_location=\"cpu\")\n",
    "model = ChessTransformer(**ckpt['hyper_parameters'])\n",
    "model.load_state_dict(ckpt['state_dict'])\n",
    "\n",
    "encoder = model.get_encoder()\n",
    "predictor = ChessBoardPredictor(encoder=encoder)\n",
    "\n",
    "for i in range(12):\n",
    "    pgn.get_game()\n",
    "    \n",
    "board_fens = pgn.get_board_fens()\n",
    "\n",
    "boards_in = []\n",
    "attns_in = []\n",
    "for i, board_fen in enumerate(board_fens):\n",
    "    board = chess.Board(board_fen)\n",
    "    attn_matrix = predictor.get_attn_at_head_and_layer(chess_board=board, layer=11, head=15)\n",
    "    attn = AttentionMapGetter(attn_matrix)\n",
    "    boards_in.append(board)\n",
    "    attns_in.append(attn)"
   ],
   "outputs": [
    {
     "name": "stderr",
     "output_type": "stream",
     "text": [
      "/var/folders/x0/rmp25fy116j6q3pcyk4sbg6w0000gn/T/ipykernel_16531/2999533361.py:3: FutureWarning:\n",
      "\n",
      "You are using `torch.load` with `weights_only=False` (the current default value), which uses the default pickle module implicitly. It is possible to construct malicious pickle data which will execute arbitrary code during unpickling (See https://github.com/pytorch/pytorch/blob/main/SECURITY.md#untrusted-models for more details). In a future release, the default value for `weights_only` will be flipped to `True`. This limits the functions that could be executed during unpickling. Arbitrary objects will no longer be allowed to be loaded via this mode unless they are explicitly allowlisted by the user via `torch.serialization.add_safe_globals`. We recommend you start setting `weights_only=True` for any use case where you don't have full control of the loaded file. Please open an issue on GitHub for any issues related to this experimental feature.\n",
      "\n"
     ]
    }
   ],
   "execution_count": 18
  },
  {
   "cell_type": "code",
   "id": "2b4c9c1a6ced440f",
   "metadata": {
    "ExecuteTime": {
     "end_time": "2025-05-22T17:28:54.832811Z",
     "start_time": "2025-05-22T17:28:54.633998Z"
    }
   },
   "source": [
    "app = create_game_attention_app(boards_in, attns_in)\n",
    "app.run(jupyter_mode='inline')"
   ],
   "outputs": [
    {
     "data": {
      "text/plain": [
       "<IPython.lib.display.IFrame at 0x16df6bf70>"
      ],
      "text/html": [
       "\n",
       "        <iframe\n",
       "            width=\"100%\"\n",
       "            height=\"650\"\n",
       "            src=\"http://127.0.0.1:8050/\"\n",
       "            frameborder=\"0\"\n",
       "            allowfullscreen\n",
       "            \n",
       "        ></iframe>\n",
       "        "
      ]
     },
     "metadata": {},
     "output_type": "display_data"
    }
   ],
   "execution_count": 19
  },
  {
   "metadata": {},
   "cell_type": "code",
   "source": "embeddings = model.embedding_table[:-1,]",
   "id": "774e9ac20db6f07b",
   "outputs": [],
   "execution_count": null
  },
  {
   "metadata": {},
   "cell_type": "code",
   "source": "embeddings.shape",
   "id": "98a3ea0402ed1654",
   "outputs": [],
   "execution_count": null
  },
  {
   "cell_type": "code",
   "id": "5c99d373",
   "metadata": {},
   "source": "print(torch.std(embeddings, dim=1))",
   "outputs": [],
   "execution_count": null
  },
  {
   "metadata": {},
   "cell_type": "code",
   "source": "attns_in[1].attn_matrix[0].sum()",
   "id": "51de0744aeb01908",
   "outputs": [],
   "execution_count": null
  },
  {
   "metadata": {},
   "cell_type": "code",
   "source": "point = ChessPoint.from_square('h8')",
   "id": "8fc8d93a8cd7c419",
   "outputs": [],
   "execution_count": null
  },
  {
   "metadata": {},
   "cell_type": "code",
   "source": "point.to_str_position()",
   "id": "d508212ea48b0fdb",
   "outputs": [],
   "execution_count": null
  },
  {
   "metadata": {},
   "cell_type": "code",
   "source": "",
   "id": "f8bb9d584b0eec82",
   "outputs": [],
   "execution_count": null
  }
 ],
 "metadata": {
  "kernelspec": {
   "display_name": "Python 3 (ipykernel)",
   "language": "python",
   "name": "python3"
  },
  "language_info": {
   "codemirror_mode": {
    "name": "ipython",
    "version": 3
   },
   "file_extension": ".py",
   "mimetype": "text/x-python",
   "name": "python",
   "nbconvert_exporter": "python",
   "pygments_lexer": "ipython3",
   "version": "3.10.16"
  }
 },
 "nbformat": 4,
 "nbformat_minor": 5
}
