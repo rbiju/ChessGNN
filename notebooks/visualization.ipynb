{
 "cells": [
  {
   "cell_type": "code",
   "id": "9ab81fa02aae4c57",
   "metadata": {
    "ExecuteTime": {
     "end_time": "2025-05-16T00:11:53.802336Z",
     "start_time": "2025-05-16T00:11:53.798756Z"
    }
   },
   "source": [
    "import chess.svg\n",
    "import einops\n",
    "import numpy as np\n",
    "from pathlib import Path\n",
    "\n",
    "from chess_gnn.inference import ChessBoardPredictor\n",
    "from chess_gnn.models import ChessBERT\n",
    "from chess_gnn.utils import PGNBoardHelper, ChessPoint"
   ],
   "outputs": [],
   "execution_count": 73
  },
  {
   "metadata": {
    "ExecuteTime": {
     "end_time": "2025-05-15T22:31:20.153030Z",
     "start_time": "2025-05-15T22:31:20.143608Z"
    }
   },
   "cell_type": "code",
   "source": [
    "class AttentionMapGetter:\n",
    "    def __init__(self, attn_matrix: np.ndarray):\n",
    "        self.attn_matrix = attn_matrix\n",
    "    \n",
    "    def get_attention_map(self, query: str):\n",
    "        if query.lower() == 'cls':\n",
    "            point_idx = 0\n",
    "        else:\n",
    "            point = ChessPoint.from_square(query)\n",
    "            point_idx = point.to_str_position() + 1\n",
    "    \n",
    "        attention = np.flipud(einops.rearrange(self.attn_matrix[point_idx][1:], '(h w) -> h w', h=8))\n",
    "        return attention\n",
    "        "
   ],
   "id": "db41029adeaf95f5",
   "outputs": [],
   "execution_count": 26
  },
  {
   "cell_type": "code",
   "id": "c3630208907ac777",
   "metadata": {
    "ExecuteTime": {
     "end_time": "2025-05-16T00:04:39.880257Z",
     "start_time": "2025-05-16T00:04:39.864329Z"
    }
   },
   "source": [
    "import dash\n",
    "from dash import dcc, html, Input, Output, State\n",
    "import plotly.graph_objects as go\n",
    "import chess\n",
    "import chess.svg\n",
    "import base64\n",
    "\n",
    "def create_game_attention_app(boards: list[chess.Board], attn_maps: list[AttentionMapGetter]):\n",
    "    assert len(boards) == len(attn_maps), \"Boards and attention maps must be same length\"\n",
    "\n",
    "    app = dash.Dash(__name__)\n",
    "    num_moves = len(boards)\n",
    "    default_square = \"a1\"\n",
    "    default_idx = 0\n",
    "\n",
    "    def get_svg_images(board: chess.Board):\n",
    "        images = []\n",
    "        for idx in range(64):\n",
    "            piece = board.piece_at(idx)\n",
    "            point = ChessPoint.from_1d(idx)\n",
    "            if piece:\n",
    "                svg = chess.svg.piece(piece)\n",
    "                svg_bytes = svg.encode('utf-8')\n",
    "                uri = f\"data:image/svg+xml;base64,{base64.b64encode(svg_bytes).decode('utf-8')}\"\n",
    "                images.append(dict(\n",
    "                    source=uri,\n",
    "                    xref=\"x\", yref=\"y\",\n",
    "                    x=point.x,\n",
    "                    y=point.y,\n",
    "                    sizex=0.9, sizey=0.9,\n",
    "                    xanchor=\"center\", yanchor=\"middle\",\n",
    "                    layer=\"above\"\n",
    "                ))\n",
    "        return images\n",
    "\n",
    "    def create_figure(board: chess.Board, attention: np.ndarray, highlight_square: str | None = None):\n",
    "        fig = go.Figure(data=go.Heatmap(\n",
    "            z=attention,\n",
    "            x=list(range(8)),\n",
    "            y=list(range(8)),\n",
    "            colorscale='Viridis',\n",
    "            hoverongaps=False\n",
    "        ))\n",
    "        fig.update_layout(\n",
    "            yaxis=dict(scaleanchor=\"x\", scaleratio=1),\n",
    "            xaxis=dict(constrain='domain'),\n",
    "            images=get_svg_images(board),\n",
    "            shapes=[]\n",
    "        )\n",
    "    \n",
    "        if highlight_square and highlight_square != 'cls':\n",
    "            # Calculate col and row of the square\n",
    "            col, row = ChessPoint.from_square(highlight_square)\n",
    "            # Plotly rect corners: x0,y0 is bottom left, x1,y1 is top right\n",
    "            fig.update_layout(shapes=[dict(\n",
    "                type=\"rect\",\n",
    "                x0=col - 0.5, y0=row - 0.5,\n",
    "                x1=col + 0.5, y1=row + 0.5,\n",
    "                line=dict(color=\"red\", width=1),\n",
    "                fillcolor=\"rgba(255,0,0,0.2)\",\n",
    "                layer=\"above\"\n",
    "            )])\n",
    "        elif highlight_square == 'cls':\n",
    "            # Add a border somewhere meaningful to indicate cls is selected\n",
    "            fig.update_layout(shapes=[dict(\n",
    "                type=\"rect\",\n",
    "                x0=-0.5, y0=-1,\n",
    "                x1=7.5, y1=-0.6,\n",
    "                line=dict(color=\"red\", width=2),\n",
    "                fillcolor=\"rgba(255,0,0,0.2)\",\n",
    "                layer=\"above\"\n",
    "            )])\n",
    "    \n",
    "        return fig\n",
    "\n",
    "    app.layout = html.Div([\n",
    "        html.Div([\n",
    "            html.Button(\"Prev\", id=\"prev-btn\", n_clicks=0),\n",
    "            html.Button(\"Next\", id=\"next-btn\", n_clicks=0),\n",
    "            html.Span(id=\"move-label\", style={\"marginLeft\": \"1rem\"}),\n",
    "        ], style={\"marginBottom\": \"1rem\"}),\n",
    "\n",
    "        dcc.Store(id=\"current-index\", data=0),\n",
    "        dcc.Store(id=\"current-square\", data=default_square),\n",
    "\n",
    "        dcc.Graph(id='heatmap', figure=create_figure(boards[default_idx], attn_maps[default_idx].get_attention_map(default_square))),\n",
    "        \n",
    "        html.Div([\n",
    "            html.Button(\"CLS\", id=\"cls-btn\", n_clicks=0, style={\"marginTop\": \"10px\"})\n",
    "        ]),\n",
    "        \n",
    "        html.Div(id='click-output')\n",
    "    ])\n",
    "\n",
    "    @app.callback(\n",
    "        Output('current-index', 'data'),\n",
    "        Output('move-label', 'children'),\n",
    "        Input('prev-btn', 'n_clicks'),\n",
    "        Input('next-btn', 'n_clicks'),\n",
    "        State('current-index', 'data')\n",
    "    )\n",
    "    def update_index(prev, nxt, current):\n",
    "        ctx = dash.callback_context.triggered_id\n",
    "        if ctx == 'prev-btn':\n",
    "            current = max(0, current - 1)\n",
    "        elif ctx == 'next-btn':\n",
    "            current = min(num_moves - 1, current + 1)\n",
    "        return current, f\"Move: {current}/{num_moves - 1}\"\n",
    "\n",
    "    @app.callback(\n",
    "        Output('current-square', 'data'),\n",
    "        Output('click-output', 'children'),\n",
    "        Input('heatmap', 'clickData'),\n",
    "        Input('cls-btn', 'n_clicks'),\n",
    "        State('cls-btn', 'n_clicks_timestamp'),\n",
    "        State('heatmap', 'clickData'),\n",
    "        State('current-square', 'data'),\n",
    "        prevent_initial_call=True\n",
    "    )\n",
    "    def update_square(clickData, cls_clicks, cls_ts, heatmap_click, current_square):\n",
    "        ctx = dash.callback_context\n",
    "        if ctx.triggered_id == 'cls-btn':\n",
    "            return 'cls', \"Viewing attention from: cls\"\n",
    "        elif ctx.triggered_id == 'heatmap' and clickData and 'points' in clickData:\n",
    "            point = clickData['points'][0]\n",
    "            col = int(point['x'])\n",
    "            row = int(point['y']) + 1\n",
    "            file = chr(ord('a') + col)\n",
    "            rank = row\n",
    "            square = f\"{file}{rank}\"\n",
    "            return square, f\"Viewing attention from: {square}\"\n",
    "        return current_square, f\"Viewing attention from: {current_square}\"\n",
    "\n",
    "    @app.callback(\n",
    "        Output('heatmap', 'figure'),\n",
    "        Input('current-index', 'data'),\n",
    "        Input('current-square', 'data')\n",
    "    )\n",
    "    def update_figure(move_idx, square):\n",
    "        board = boards[move_idx]\n",
    "        attention = attn_maps[move_idx].get_attention_map(square)\n",
    "        return create_figure(board, attention, highlight_square=square)\n",
    "\n",
    "    return app"
   ],
   "outputs": [],
   "execution_count": 70
  },
  {
   "metadata": {
    "ExecuteTime": {
     "end_time": "2025-05-16T18:48:49.048248Z",
     "start_time": "2025-05-16T18:48:38.076951Z"
    }
   },
   "cell_type": "code",
   "source": [
    "pgn = PGNBoardHelper(Path('/Users/ray/Datasets/chess/Carlsen.pgn'))\n",
    "\n",
    "model = ChessBERT.load_from_checkpoint(\n",
    "    '/Users/ray/models/chess/bert/7b961c05-55bf-45a0-8090-1409a883d676/final.ckpt')\n",
    "encoder = model.get_encoder()\n",
    "predictor = ChessBoardPredictor(encoder=encoder)\n",
    "\n",
    "for i in range(2):\n",
    "    pgn.get_game()\n",
    "    \n",
    "board_fens = pgn.get_board_fens()\n",
    "\n",
    "boards_in = []\n",
    "attns_in = []\n",
    "for i, board_fen in enumerate(board_fens):\n",
    "    board = chess.Board(board_fen)\n",
    "    attn = AttentionMapGetter(predictor.get_attn_at_layer(chess_board=board, layer=8))\n",
    "    boards_in.append(board)\n",
    "    attns_in.append(attn)"
   ],
   "id": "74c04b2b69142c0a",
   "outputs": [],
   "execution_count": 79
  },
  {
   "metadata": {
    "ExecuteTime": {
     "end_time": "2025-05-16T18:48:49.534861Z",
     "start_time": "2025-05-16T18:48:49.051249Z"
    }
   },
   "cell_type": "code",
   "source": [
    "app = create_game_attention_app(boards_in, attns_in)\n",
    "app.run()"
   ],
   "id": "2b4c9c1a6ced440f",
   "outputs": [
    {
     "data": {
      "text/plain": [
       "<IPython.lib.display.IFrame at 0x32417aa70>"
      ],
      "text/html": [
       "\n",
       "        <iframe\n",
       "            width=\"100%\"\n",
       "            height=\"650\"\n",
       "            src=\"http://127.0.0.1:8050/\"\n",
       "            frameborder=\"0\"\n",
       "            allowfullscreen\n",
       "            \n",
       "        ></iframe>\n",
       "        "
      ]
     },
     "metadata": {},
     "output_type": "display_data"
    }
   ],
   "execution_count": 80
  },
  {
   "cell_type": "code",
   "id": "7611722bf13fe48c",
   "metadata": {},
   "source": [],
   "outputs": [],
   "execution_count": null
  }
 ],
 "metadata": {
  "kernelspec": {
   "display_name": "Python 3 (ipykernel)",
   "language": "python",
   "name": "python3"
  },
  "language_info": {
   "codemirror_mode": {
    "name": "ipython",
    "version": 3
   },
   "file_extension": ".py",
   "mimetype": "text/x-python",
   "name": "python",
   "nbconvert_exporter": "python",
   "pygments_lexer": "ipython3",
   "version": "3.10.16"
  }
 },
 "nbformat": 4,
 "nbformat_minor": 5
}
