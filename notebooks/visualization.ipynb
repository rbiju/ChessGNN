{
 "cells": [
  {
   "cell_type": "code",
   "id": "9ab81fa02aae4c57",
   "metadata": {
    "ExecuteTime": {
     "end_time": "2025-05-16T22:17:54.564944Z",
     "start_time": "2025-05-16T22:17:54.560229Z"
    }
   },
   "source": [
    "import chess.svg\n",
    "import einops\n",
    "import numpy as np\n",
    "from pathlib import Path\n",
    "\n",
    "from chess_gnn.inference import ChessBoardPredictor\n",
    "from chess_gnn.models import ChessXAttnEngine, ChessBERT\n",
    "from chess_gnn.utils import PGNBoardHelper, ChessPoint"
   ],
   "outputs": [],
   "execution_count": 7
  },
  {
   "metadata": {
    "ExecuteTime": {
     "end_time": "2025-05-16T22:15:56.221029Z",
     "start_time": "2025-05-16T22:15:56.218338Z"
    }
   },
   "cell_type": "code",
   "source": [
    "class AttentionMapGetter:\n",
    "    def __init__(self, attn_matrix: np.ndarray):\n",
    "        self.attn_matrix = attn_matrix\n",
    "    \n",
    "    def get_attention_map(self, query: str):\n",
    "        if query.lower() == 'cls':\n",
    "            point_idx = 0\n",
    "        else:\n",
    "            point = ChessPoint.from_square(query)\n",
    "            point_idx = point.to_str_position() + 1\n",
    "    \n",
    "        attention = np.flipud(einops.rearrange(self.attn_matrix.transpose()[point_idx][1:], '(h w) -> h w', h=8))\n",
    "        return attention\n",
    "        "
   ],
   "id": "db41029adeaf95f5",
   "outputs": [],
   "execution_count": 2
  },
  {
   "cell_type": "code",
   "id": "c3630208907ac777",
   "metadata": {
    "ExecuteTime": {
     "end_time": "2025-05-16T22:15:56.466556Z",
     "start_time": "2025-05-16T22:15:56.221840Z"
    }
   },
   "source": [
    "import dash\n",
    "from dash import dcc, html, Input, Output, State\n",
    "import plotly.graph_objects as go\n",
    "import chess\n",
    "import chess.svg\n",
    "import base64\n",
    "\n",
    "def create_game_attention_app(boards: list[chess.Board], attn_maps: list[AttentionMapGetter]):\n",
    "    assert len(boards) == len(attn_maps), \"Boards and attention maps must be same length\"\n",
    "\n",
    "    app = dash.Dash(__name__)\n",
    "    num_moves = len(boards)\n",
    "    default_square = \"a1\"\n",
    "    default_idx = 0\n",
    "\n",
    "    def get_svg_images(board: chess.Board):\n",
    "        images = []\n",
    "        for idx in range(64):\n",
    "            piece = board.piece_at(idx)\n",
    "            point = ChessPoint.from_1d(idx)\n",
    "            if piece:\n",
    "                svg = chess.svg.piece(piece)\n",
    "                svg_bytes = svg.encode('utf-8')\n",
    "                uri = f\"data:image/svg+xml;base64,{base64.b64encode(svg_bytes).decode('utf-8')}\"\n",
    "                images.append(dict(\n",
    "                    source=uri,\n",
    "                    xref=\"x\", yref=\"y\",\n",
    "                    x=point.x,\n",
    "                    y=point.y,\n",
    "                    sizex=0.9, sizey=0.9,\n",
    "                    xanchor=\"center\", yanchor=\"middle\",\n",
    "                    layer=\"above\"\n",
    "                ))\n",
    "        return images\n",
    "\n",
    "    def create_figure(board: chess.Board, attention: np.ndarray, highlight_square: str | None = None):\n",
    "        fig = go.Figure(data=go.Heatmap(\n",
    "            z=attention,\n",
    "            x=list(range(8)),\n",
    "            y=list(range(8)),\n",
    "            colorscale='Viridis',\n",
    "            hoverongaps=False,\n",
    "            opacity=0.5\n",
    "        ))\n",
    "        fig.update_layout(\n",
    "            yaxis=dict(scaleanchor=\"x\", scaleratio=1),\n",
    "            xaxis=dict(constrain='domain'),\n",
    "            images=get_svg_images(board),\n",
    "            shapes=[]\n",
    "        )\n",
    "    \n",
    "        if highlight_square and highlight_square != 'cls':\n",
    "            # Calculate col and row of the square\n",
    "            col, row = ChessPoint.from_square(highlight_square)\n",
    "            # Plotly rect corners: x0,y0 is bottom left, x1,y1 is top right\n",
    "            fig.update_layout(shapes=[dict(\n",
    "                type=\"rect\",\n",
    "                x0=col - 0.5, y0=row - 0.5,\n",
    "                x1=col + 0.5, y1=row + 0.5,\n",
    "                line=dict(color=\"red\", width=1),\n",
    "                fillcolor=\"rgba(255,0,0,0.2)\",\n",
    "                layer=\"above\"\n",
    "            )])\n",
    "        elif highlight_square == 'cls':\n",
    "            # Add a border somewhere meaningful to indicate cls is selected\n",
    "            fig.update_layout(shapes=[dict(\n",
    "                type=\"rect\",\n",
    "                x0=-0.5, y0=-1,\n",
    "                x1=7.5, y1=-0.6,\n",
    "                line=dict(color=\"red\", width=2),\n",
    "                fillcolor=\"rgba(255,0,0,0.2)\",\n",
    "                layer=\"above\"\n",
    "            )])\n",
    "    \n",
    "        return fig\n",
    "\n",
    "    app.layout = html.Div([\n",
    "        html.Div([\n",
    "            html.Button(\"Prev\", id=\"prev-btn\", n_clicks=0),\n",
    "            html.Button(\"Next\", id=\"next-btn\", n_clicks=0),\n",
    "            html.Span(id=\"move-label\", style={\"marginLeft\": \"1rem\"}),\n",
    "        ], style={\"marginBottom\": \"1rem\"}),\n",
    "\n",
    "        dcc.Store(id=\"current-index\", data=0),\n",
    "        dcc.Store(id=\"current-square\", data=default_square),\n",
    "\n",
    "        dcc.Graph(id='heatmap', figure=create_figure(boards[default_idx], attn_maps[default_idx].get_attention_map(default_square))),\n",
    "        \n",
    "        html.Div([\n",
    "            html.Button(\"CLS\", id=\"cls-btn\", n_clicks=0, style={\"marginTop\": \"10px\"})\n",
    "        ]),\n",
    "        \n",
    "        html.Div(id='click-output')\n",
    "    ])\n",
    "\n",
    "    @app.callback(\n",
    "        Output('current-index', 'data'),\n",
    "        Output('move-label', 'children'),\n",
    "        Input('prev-btn', 'n_clicks'),\n",
    "        Input('next-btn', 'n_clicks'),\n",
    "        State('current-index', 'data')\n",
    "    )\n",
    "    def update_index(prev, nxt, current):\n",
    "        ctx = dash.callback_context.triggered_id\n",
    "        if ctx == 'prev-btn':\n",
    "            current = max(0, current - 1)\n",
    "        elif ctx == 'next-btn':\n",
    "            current = min(num_moves - 1, current + 1)\n",
    "        return current, f\"Move: {current}/{num_moves - 1}\"\n",
    "\n",
    "    @app.callback(\n",
    "        Output('current-square', 'data'),\n",
    "        Output('click-output', 'children'),\n",
    "        Input('heatmap', 'clickData'),\n",
    "        Input('cls-btn', 'n_clicks'),\n",
    "        State('cls-btn', 'n_clicks_timestamp'),\n",
    "        State('heatmap', 'clickData'),\n",
    "        State('current-square', 'data'),\n",
    "        prevent_initial_call=True\n",
    "    )\n",
    "    def update_square(clickData, cls_clicks, cls_ts, heatmap_click, current_square):\n",
    "        ctx = dash.callback_context\n",
    "        if ctx.triggered_id == 'cls-btn':\n",
    "            return 'cls', \"Viewing attention from: cls\"\n",
    "        elif ctx.triggered_id == 'heatmap' and clickData and 'points' in clickData:\n",
    "            point = clickData['points'][0]\n",
    "            col = int(point['x'])\n",
    "            row = int(point['y']) + 1\n",
    "            file = chr(ord('a') + col)\n",
    "            rank = row\n",
    "            square = f\"{file}{rank}\"\n",
    "            return square, f\"Viewing attention from: {square}\"\n",
    "        return current_square, f\"Viewing attention from: {current_square}\"\n",
    "\n",
    "    @app.callback(\n",
    "        Output('heatmap', 'figure'),\n",
    "        Input('current-index', 'data'),\n",
    "        Input('current-square', 'data')\n",
    "    )\n",
    "    def update_figure(move_idx, square):\n",
    "        board = boards[move_idx]\n",
    "        attention = attn_maps[move_idx].get_attention_map(square)\n",
    "        return create_figure(board, attention, highlight_square=square)\n",
    "\n",
    "    return app"
   ],
   "outputs": [],
   "execution_count": 3
  },
  {
   "metadata": {
    "ExecuteTime": {
     "end_time": "2025-05-16T22:18:10.630732Z",
     "start_time": "2025-05-16T22:17:57.216143Z"
    }
   },
   "cell_type": "code",
   "source": [
    "pgn = PGNBoardHelper(Path('/Users/ray/Datasets/chess/Carlsen.pgn'))\n",
    "\n",
    "model = ChessXAttnEngine.load_from_checkpoint(\n",
    "    '/Users/ray/models/chess/engines/57797a5d-3f0c-4629-9db2-4fddf71cb7d7/last.ckpt')\n",
    "encoder = model.get_encoder()\n",
    "predictor = ChessBoardPredictor(encoder=encoder)\n",
    "\n",
    "for i in range(2):\n",
    "    pgn.get_game()\n",
    "    \n",
    "board_fens = pgn.get_board_fens()\n",
    "\n",
    "boards_in = []\n",
    "attns_in = []\n",
    "for i, board_fen in enumerate(board_fens):\n",
    "    board = chess.Board(board_fen)\n",
    "    attn_matrix = predictor.get_attn_at_head_and_layer(chess_board=board, layer=11, head=15)\n",
    "    attn = AttentionMapGetter(attn_matrix)\n",
    "    boards_in.append(board)\n",
    "    attns_in.append(attn)"
   ],
   "id": "74c04b2b69142c0a",
   "outputs": [
    {
     "name": "stderr",
     "output_type": "stream",
     "text": [
      "/Users/ray/miniconda3/envs/ChessGNN/lib/python3.10/site-packages/pytorch_lightning/utilities/parsing.py:209: UserWarning:\n",
      "\n",
      "Attribute 'encoder' is an instance of `nn.Module` and is already saved during checkpointing. It is recommended to ignore them using `self.save_hyperparameters(ignore=['encoder'])`.\n",
      "\n",
      "/Users/ray/miniconda3/envs/ChessGNN/lib/python3.10/site-packages/pytorch_lightning/utilities/parsing.py:209: UserWarning:\n",
      "\n",
      "Attribute 'decoder_layer' is an instance of `nn.Module` and is already saved during checkpointing. It is recommended to ignore them using `self.save_hyperparameters(ignore=['decoder_layer'])`.\n",
      "\n"
     ]
    }
   ],
   "execution_count": 8
  },
  {
   "metadata": {
    "ExecuteTime": {
     "end_time": "2025-05-16T22:18:17.250272Z",
     "start_time": "2025-05-16T22:18:17.048443Z"
    }
   },
   "cell_type": "code",
   "source": [
    "app = create_game_attention_app(boards_in, attns_in)\n",
    "app.run()"
   ],
   "id": "2b4c9c1a6ced440f",
   "outputs": [
    {
     "data": {
      "text/plain": [
       "<IPython.lib.display.IFrame at 0x14f5d65c0>"
      ],
      "text/html": [
       "\n",
       "        <iframe\n",
       "            width=\"100%\"\n",
       "            height=\"650\"\n",
       "            src=\"http://127.0.0.1:8050/\"\n",
       "            frameborder=\"0\"\n",
       "            allowfullscreen\n",
       "            \n",
       "        ></iframe>\n",
       "        "
      ]
     },
     "metadata": {},
     "output_type": "display_data"
    }
   ],
   "execution_count": 9
  },
  {
   "metadata": {},
   "cell_type": "markdown",
   "source": "",
   "id": "de18176c77275289"
  },
  {
   "metadata": {
    "ExecuteTime": {
     "end_time": "2025-05-16T21:43:56.711143Z",
     "start_time": "2025-05-16T21:43:56.707992Z"
    }
   },
   "cell_type": "code",
   "source": [
    "import torch\n",
    "\n",
    "from chess_gnn.utils import process_board_string\n",
    "from chess_gnn.tokenizers import SimpleChessTokenizer\n",
    "\n",
    "def prep_model_inputs(chess_board: chess.Board):\n",
    "    tokenizer = SimpleChessTokenizer()\n",
    "    board = process_board_string(str(chess_board))\n",
    "    print(board)\n",
    "    board_tokens = torch.Tensor(tokenizer.tokenize(board)).long().unsqueeze(0)\n",
    "    whose_move = torch.Tensor([int(not chess_board.turn)]).long()\n",
    "    \n",
    "    return board_tokens, whose_move"
   ],
   "id": "972042834c7302dc",
   "outputs": [],
   "execution_count": 17
  },
  {
   "metadata": {
    "ExecuteTime": {
     "end_time": "2025-05-16T21:52:01.912216Z",
     "start_time": "2025-05-16T21:52:01.908439Z"
    }
   },
   "cell_type": "code",
   "source": [
    "def bert_mask(model: ChessBERT, board_tokens: torch.Tensor, whose_move: torch.Tensor):\n",
    "    out = model.forward_mask(board_tokens, whose_move)\n",
    "    mlm_preds = model.mlm_head(out['tokens'])\n",
    "    \n",
    "    return board_tokens, torch.argmax(mlm_preds, dim=-1), out['masked_token_labels']"
   ],
   "id": "45e51f6664292210",
   "outputs": [],
   "execution_count": 40
  },
  {
   "metadata": {
    "ExecuteTime": {
     "end_time": "2025-05-16T21:56:27.056586Z",
     "start_time": "2025-05-16T21:56:26.998618Z"
    }
   },
   "cell_type": "code",
   "source": [
    "from chess_gnn.configuration import LocalHydraConfiguration\n",
    "untrained_model = ChessBERT.from_hydra_configuration(LocalHydraConfiguration('/Users/ray/Projects/ChessGNN/configs/bert/training/bert.yaml'))"
   ],
   "id": "e476e7f55dd29030",
   "outputs": [],
   "execution_count": 53
  },
  {
   "metadata": {
    "ExecuteTime": {
     "end_time": "2025-05-16T22:06:48.078121Z",
     "start_time": "2025-05-16T22:06:47.886294Z"
    }
   },
   "cell_type": "code",
   "source": "labels, preds, masked = bert_mask(model, *prep_model_inputs(chess_board=boards_in[28]))",
   "id": "55bee557bb1e5318",
   "outputs": [
    {
     "name": "stdout",
     "output_type": "stream",
     "text": [
      "r....rk..ppqbppp.nn.p.b.p..pP....P.P.B..P.P..N.P..QNBPP.R....RK.\n"
     ]
    }
   ],
   "execution_count": 100
  },
  {
   "metadata": {
    "ExecuteTime": {
     "end_time": "2025-05-16T22:06:48.921834Z",
     "start_time": "2025-05-16T22:06:48.916293Z"
    }
   },
   "cell_type": "code",
   "source": "einops.rearrange(torch.eq(labels, preds), \"1 (h w) -> h w\", h=8)",
   "id": "bae0e1cec710314f",
   "outputs": [
    {
     "data": {
      "text/plain": [
       "tensor([[ True,  True,  True,  True,  True,  True,  True,  True],\n",
       "        [ True,  True,  True,  True,  True,  True,  True,  True],\n",
       "        [ True,  True,  True,  True,  True,  True, False,  True],\n",
       "        [ True,  True,  True,  True,  True,  True,  True,  True],\n",
       "        [ True,  True,  True,  True,  True,  True,  True,  True],\n",
       "        [ True,  True,  True,  True,  True,  True,  True,  True],\n",
       "        [ True,  True, False,  True, False,  True,  True,  True],\n",
       "        [ True,  True,  True,  True,  True,  True,  True,  True]])"
      ]
     },
     "execution_count": 101,
     "metadata": {},
     "output_type": "execute_result"
    }
   ],
   "execution_count": 101
  },
  {
   "metadata": {
    "ExecuteTime": {
     "end_time": "2025-05-16T22:06:51.213123Z",
     "start_time": "2025-05-16T22:06:51.207561Z"
    }
   },
   "cell_type": "code",
   "source": "torch.sum(~torch.eq(labels, preds))",
   "id": "b5319341244da13f",
   "outputs": [
    {
     "data": {
      "text/plain": [
       "tensor(3)"
      ]
     },
     "execution_count": 102,
     "metadata": {},
     "output_type": "execute_result"
    }
   ],
   "execution_count": 102
  },
  {
   "metadata": {
    "ExecuteTime": {
     "end_time": "2025-05-16T22:06:51.850827Z",
     "start_time": "2025-05-16T22:06:51.847335Z"
    }
   },
   "cell_type": "code",
   "source": "einops.rearrange(labels, \"1 (h w) -> h w\", h=8)",
   "id": "f483b24f56c19a22",
   "outputs": [
    {
     "data": {
      "text/plain": [
       "tensor([[12,  0,  0,  0,  0, 12,  8,  0],\n",
       "        [ 0, 10, 10, 11,  7, 10, 10, 10],\n",
       "        [ 0,  9,  9,  0, 10,  0,  7,  0],\n",
       "        [10,  0,  0, 10,  4,  0,  0,  0],\n",
       "        [ 0,  4,  0,  4,  0,  1,  0,  0],\n",
       "        [ 4,  0,  4,  0,  0,  3,  0,  4],\n",
       "        [ 0,  0,  5,  3,  1,  4,  4,  0],\n",
       "        [ 6,  0,  0,  0,  0,  6,  2,  0]])"
      ]
     },
     "execution_count": 103,
     "metadata": {},
     "output_type": "execute_result"
    }
   ],
   "execution_count": 103
  },
  {
   "metadata": {
    "ExecuteTime": {
     "end_time": "2025-05-16T22:06:53.284531Z",
     "start_time": "2025-05-16T22:06:53.278320Z"
    }
   },
   "cell_type": "code",
   "source": "einops.rearrange(preds, \"1 (h w) -> h w\", h=8)",
   "id": "77c4a9363a2b4a05",
   "outputs": [
    {
     "data": {
      "text/plain": [
       "tensor([[12,  0,  0,  0,  0, 12,  8,  0],\n",
       "        [ 0, 10, 10, 11,  7, 10, 10, 10],\n",
       "        [ 0,  9,  9,  0, 10,  0,  0,  0],\n",
       "        [10,  0,  0, 10,  4,  0,  0,  0],\n",
       "        [ 0,  4,  0,  4,  0,  1,  0,  0],\n",
       "        [ 4,  0,  4,  0,  0,  3,  0,  4],\n",
       "        [ 0,  0,  0,  3,  5,  4,  4,  0],\n",
       "        [ 6,  0,  0,  0,  0,  6,  2,  0]])"
      ]
     },
     "execution_count": 104,
     "metadata": {},
     "output_type": "execute_result"
    }
   ],
   "execution_count": 104
  },
  {
   "metadata": {
    "ExecuteTime": {
     "end_time": "2025-05-16T22:06:54.238220Z",
     "start_time": "2025-05-16T22:06:54.231642Z"
    }
   },
   "cell_type": "code",
   "source": "einops.rearrange(masked!=-100, \"1 (h w) -> h w\", h=8)",
   "id": "76ef27375cc2d954",
   "outputs": [
    {
     "data": {
      "text/plain": [
       "tensor([[False, False, False, False, False, False, False, False],\n",
       "        [False, False,  True, False,  True,  True, False,  True],\n",
       "        [False, False, False, False, False, False,  True, False],\n",
       "        [False,  True,  True, False, False, False,  True, False],\n",
       "        [False, False,  True, False, False, False, False,  True],\n",
       "        [ True, False, False, False, False, False,  True, False],\n",
       "        [False, False,  True, False,  True, False, False, False],\n",
       "        [False, False, False, False, False, False, False, False]])"
      ]
     },
     "execution_count": 105,
     "metadata": {},
     "output_type": "execute_result"
    }
   ],
   "execution_count": 105
  },
  {
   "metadata": {
    "ExecuteTime": {
     "end_time": "2025-05-16T22:06:42.139093Z",
     "start_time": "2025-05-16T22:06:42.133415Z"
    }
   },
   "cell_type": "code",
   "source": "torch.sum(masked!=-100)",
   "id": "269efb2dc36c92b8",
   "outputs": [
    {
     "data": {
      "text/plain": [
       "tensor(10)"
      ]
     },
     "execution_count": 99,
     "metadata": {},
     "output_type": "execute_result"
    }
   ],
   "execution_count": 99
  },
  {
   "metadata": {},
   "cell_type": "code",
   "outputs": [],
   "execution_count": null,
   "source": "",
   "id": "488834e1a6fc5a1e"
  }
 ],
 "metadata": {
  "kernelspec": {
   "display_name": "Python 3 (ipykernel)",
   "language": "python",
   "name": "python3"
  },
  "language_info": {
   "codemirror_mode": {
    "name": "ipython",
    "version": 3
   },
   "file_extension": ".py",
   "mimetype": "text/x-python",
   "name": "python",
   "nbconvert_exporter": "python",
   "pygments_lexer": "ipython3",
   "version": "3.10.16"
  }
 },
 "nbformat": 4,
 "nbformat_minor": 5
}
