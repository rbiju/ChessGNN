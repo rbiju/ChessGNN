{
 "cells": [
  {
   "cell_type": "code",
   "id": "9ab81fa02aae4c57",
   "metadata": {
    "ExecuteTime": {
     "end_time": "2025-05-21T02:41:31.415501Z",
     "start_time": "2025-05-21T02:41:29.617624Z"
    }
   },
   "source": [
    "import chess.svg\n",
    "import einops\n",
    "from pathlib import Path\n",
    "import torch\n",
    "\n",
    "from chess_gnn.models import ChessBERT\n",
    "from chess_gnn.utils import PGNBoardHelper"
   ],
   "outputs": [],
   "execution_count": 1
  },
  {
   "metadata": {
    "ExecuteTime": {
     "end_time": "2025-05-21T02:41:31.458861Z",
     "start_time": "2025-05-21T02:41:31.416427Z"
    }
   },
   "cell_type": "code",
   "source": [
    "ckpt = torch.load('/Users/ray/models/chess/bert/7b961c05-55bf-45a0-8090-1409a883d676/final.ckpt', map_location=\"cpu\")\n",
    "model = ChessBERT(**ckpt['hyper_parameters'])\n",
    "model.load_state_dict(ckpt['state_dict'])\n"
   ],
   "id": "74c04b2b69142c0a",
   "outputs": [
    {
     "name": "stderr",
     "output_type": "stream",
     "text": [
      "/var/folders/x0/rmp25fy116j6q3pcyk4sbg6w0000gn/T/ipykernel_8369/2723112614.py:1: FutureWarning: You are using `torch.load` with `weights_only=False` (the current default value), which uses the default pickle module implicitly. It is possible to construct malicious pickle data which will execute arbitrary code during unpickling (See https://github.com/pytorch/pytorch/blob/main/SECURITY.md#untrusted-models for more details). In a future release, the default value for `weights_only` will be flipped to `True`. This limits the functions that could be executed during unpickling. Arbitrary objects will no longer be allowed to be loaded via this mode unless they are explicitly allowlisted by the user via `torch.serialization.add_safe_globals`. We recommend you start setting `weights_only=True` for any use case where you don't have full control of the loaded file. Please open an issue on GitHub for any issues related to this experimental feature.\n",
      "  ckpt = torch.load('/Users/ray/models/chess/bert/7b961c05-55bf-45a0-8090-1409a883d676/final.ckpt', map_location=\"cpu\")\n",
      "/Users/ray/miniconda3/envs/ChessGNN/lib/python3.10/site-packages/pytorch_lightning/utilities/parsing.py:209: Attribute 'block' is an instance of `nn.Module` and is already saved during checkpointing. It is recommended to ignore them using `self.save_hyperparameters(ignore=['block'])`.\n",
      "/Users/ray/miniconda3/envs/ChessGNN/lib/python3.10/site-packages/pytorch_lightning/utilities/parsing.py:209: Attribute 'mask_handler' is an instance of `nn.Module` and is already saved during checkpointing. It is recommended to ignore them using `self.save_hyperparameters(ignore=['mask_handler'])`.\n"
     ]
    },
    {
     "data": {
      "text/plain": [
       "<All keys matched successfully>"
      ]
     },
     "execution_count": 2,
     "metadata": {},
     "output_type": "execute_result"
    }
   ],
   "execution_count": 2
  },
  {
   "metadata": {
    "ExecuteTime": {
     "end_time": "2025-05-21T02:41:31.467453Z",
     "start_time": "2025-05-21T02:41:31.459800Z"
    }
   },
   "cell_type": "code",
   "source": [
    "pgn = PGNBoardHelper(Path('/Users/ray/Datasets/chess/Carlsen.pgn'))\n",
    "pgn.get_game()\n",
    "board_fens = pgn.get_board_fens()\n",
    "\n",
    "boards_in = []\n",
    "for i, board_fen in enumerate(board_fens):\n",
    "    board = chess.Board(board_fen)\n",
    "    boards_in.append(board)"
   ],
   "id": "bec24af9000ff5c",
   "outputs": [],
   "execution_count": 3
  },
  {
   "metadata": {
    "ExecuteTime": {
     "end_time": "2025-05-21T02:41:31.472484Z",
     "start_time": "2025-05-21T02:41:31.469902Z"
    }
   },
   "cell_type": "code",
   "source": [
    "from chess_gnn.utils import process_board_string\n",
    "from chess_gnn.tokenizers import SimpleChessTokenizer\n",
    "\n",
    "def prep_model_inputs(chess_board: chess.Board):\n",
    "    tokenizer = SimpleChessTokenizer()\n",
    "    board = process_board_string(str(chess_board))\n",
    "    print(board)\n",
    "    board_tokens = torch.Tensor(tokenizer.tokenize(board)).long().unsqueeze(0)\n",
    "    whose_move = torch.Tensor([int(not chess_board.turn)]).long()\n",
    "    \n",
    "    return board_tokens, whose_move"
   ],
   "id": "972042834c7302dc",
   "outputs": [],
   "execution_count": 4
  },
  {
   "metadata": {
    "ExecuteTime": {
     "end_time": "2025-05-21T02:41:31.475909Z",
     "start_time": "2025-05-21T02:41:31.473171Z"
    }
   },
   "cell_type": "code",
   "source": [
    "def bert_mask(model: ChessBERT, board_tokens: torch.Tensor, whose_move: torch.Tensor):\n",
    "    out = model.forward_mask(board_tokens, whose_move)\n",
    "    mlm_preds = model.mlm_head(out['tokens'])\n",
    "    \n",
    "    return board_tokens, torch.argmax(mlm_preds, dim=-1), out['masked_token_labels']"
   ],
   "id": "45e51f6664292210",
   "outputs": [],
   "execution_count": 5
  },
  {
   "metadata": {
    "ExecuteTime": {
     "end_time": "2025-05-21T02:41:31.548258Z",
     "start_time": "2025-05-21T02:41:31.477024Z"
    }
   },
   "cell_type": "code",
   "source": [
    "from chess_gnn.configuration import LocalHydraConfiguration\n",
    "untrained_model = ChessBERT.from_hydra_configuration(LocalHydraConfiguration('/Users/ray/Projects/ChessGNN/configs/bert/training/bert.yaml'))"
   ],
   "id": "e476e7f55dd29030",
   "outputs": [
    {
     "name": "stderr",
     "output_type": "stream",
     "text": [
      "/Users/ray/miniconda3/envs/ChessGNN/lib/python3.10/site-packages/pytorch_lightning/utilities/parsing.py:209: Attribute 'block' is an instance of `nn.Module` and is already saved during checkpointing. It is recommended to ignore them using `self.save_hyperparameters(ignore=['block'])`.\n",
      "/Users/ray/miniconda3/envs/ChessGNN/lib/python3.10/site-packages/pytorch_lightning/utilities/parsing.py:209: Attribute 'mask_handler' is an instance of `nn.Module` and is already saved during checkpointing. It is recommended to ignore them using `self.save_hyperparameters(ignore=['mask_handler'])`.\n"
     ]
    }
   ],
   "execution_count": 6
  },
  {
   "metadata": {
    "ExecuteTime": {
     "end_time": "2025-05-21T02:41:54.761236Z",
     "start_time": "2025-05-21T02:41:54.756337Z"
    }
   },
   "cell_type": "code",
   "source": [
    "tokenizer = SimpleChessTokenizer()\n",
    "tokenizer.vocab"
   ],
   "id": "f644004535ebb69c",
   "outputs": [
    {
     "data": {
      "text/plain": [
       "['.', 'B', 'K', 'N', 'P', 'Q', 'R', 'b', 'k', 'n', 'p', 'q', 'r']"
      ]
     },
     "execution_count": 8,
     "metadata": {},
     "output_type": "execute_result"
    }
   ],
   "execution_count": 8
  },
  {
   "metadata": {
    "ExecuteTime": {
     "end_time": "2025-05-21T02:41:31.945207Z",
     "start_time": "2025-05-21T02:41:31.607454Z"
    }
   },
   "cell_type": "code",
   "source": "labels, preds, masked = bert_mask(model, *prep_model_inputs(chess_board=boards_in[28]))",
   "id": "55bee557bb1e5318",
   "outputs": [
    {
     "name": "stdout",
     "output_type": "stream",
     "text": [
      "...r.rk.pp..qppp..pb.n......n.....P.......NQPN..PB...PPP...RR.K.\n"
     ]
    }
   ],
   "execution_count": 7
  },
  {
   "metadata": {
    "ExecuteTime": {
     "end_time": "2025-05-21T03:07:03.486799Z",
     "start_time": "2025-05-21T03:07:03.474863Z"
    }
   },
   "cell_type": "code",
   "source": "einops.rearrange(torch.eq(labels, preds), \"1 (h w) -> h w\", h=8)",
   "id": "bae0e1cec710314f",
   "outputs": [
    {
     "data": {
      "text/plain": [
       "tensor([[True, True, True, True, True, True, True, True],\n",
       "        [True, True, True, True, True, True, True, True],\n",
       "        [True, True, True, True, True, True, True, True],\n",
       "        [True, True, True, True, True, True, True, True],\n",
       "        [True, True, True, True, True, True, True, True],\n",
       "        [True, True, True, True, True, True, True, True],\n",
       "        [True, True, True, True, True, True, True, True],\n",
       "        [True, True, True, True, True, True, True, True]])"
      ]
     },
     "execution_count": 9,
     "metadata": {},
     "output_type": "execute_result"
    }
   ],
   "execution_count": 9
  },
  {
   "metadata": {
    "ExecuteTime": {
     "end_time": "2025-05-21T03:07:04.303768Z",
     "start_time": "2025-05-21T03:07:04.297279Z"
    }
   },
   "cell_type": "code",
   "source": "torch.sum(~torch.eq(labels, preds))",
   "id": "b5319341244da13f",
   "outputs": [
    {
     "data": {
      "text/plain": [
       "tensor(0)"
      ]
     },
     "execution_count": 10,
     "metadata": {},
     "output_type": "execute_result"
    }
   ],
   "execution_count": 10
  },
  {
   "metadata": {
    "ExecuteTime": {
     "end_time": "2025-05-21T03:07:04.741860Z",
     "start_time": "2025-05-21T03:07:04.737580Z"
    }
   },
   "cell_type": "code",
   "source": "einops.rearrange(labels, \"1 (h w) -> h w\", h=8)",
   "id": "f483b24f56c19a22",
   "outputs": [
    {
     "data": {
      "text/plain": [
       "tensor([[ 0,  0,  0, 12,  0, 12,  8,  0],\n",
       "        [10, 10,  0,  0, 11, 10, 10, 10],\n",
       "        [ 0,  0, 10,  7,  0,  9,  0,  0],\n",
       "        [ 0,  0,  0,  0,  9,  0,  0,  0],\n",
       "        [ 0,  0,  4,  0,  0,  0,  0,  0],\n",
       "        [ 0,  0,  3,  5,  4,  3,  0,  0],\n",
       "        [ 4,  1,  0,  0,  0,  4,  4,  4],\n",
       "        [ 0,  0,  0,  6,  6,  0,  2,  0]])"
      ]
     },
     "execution_count": 11,
     "metadata": {},
     "output_type": "execute_result"
    }
   ],
   "execution_count": 11
  },
  {
   "metadata": {
    "ExecuteTime": {
     "end_time": "2025-05-21T03:07:05.086087Z",
     "start_time": "2025-05-21T03:07:05.081084Z"
    }
   },
   "cell_type": "code",
   "source": "einops.rearrange(preds, \"1 (h w) -> h w\", h=8)",
   "id": "77c4a9363a2b4a05",
   "outputs": [
    {
     "data": {
      "text/plain": [
       "tensor([[ 0,  0,  0, 12,  0, 12,  8,  0],\n",
       "        [10, 10,  0,  0, 11, 10, 10, 10],\n",
       "        [ 0,  0, 10,  7,  0,  9,  0,  0],\n",
       "        [ 0,  0,  0,  0,  9,  0,  0,  0],\n",
       "        [ 0,  0,  4,  0,  0,  0,  0,  0],\n",
       "        [ 0,  0,  3,  5,  4,  3,  0,  0],\n",
       "        [ 4,  1,  0,  0,  0,  4,  4,  4],\n",
       "        [ 0,  0,  0,  6,  6,  0,  2,  0]])"
      ]
     },
     "execution_count": 12,
     "metadata": {},
     "output_type": "execute_result"
    }
   ],
   "execution_count": 12
  },
  {
   "metadata": {
    "ExecuteTime": {
     "end_time": "2025-05-21T03:07:05.706779Z",
     "start_time": "2025-05-21T03:07:05.698658Z"
    }
   },
   "cell_type": "code",
   "source": "einops.rearrange(masked!=-100, \"1 (h w) -> h w\", h=8)",
   "id": "76ef27375cc2d954",
   "outputs": [
    {
     "data": {
      "text/plain": [
       "tensor([[False, False, False, False, False, False, False,  True],\n",
       "        [False,  True, False, False, False, False, False,  True],\n",
       "        [False, False, False, False, False, False, False, False],\n",
       "        [False, False, False, False,  True, False, False, False],\n",
       "        [False, False, False, False, False, False, False, False],\n",
       "        [False,  True, False, False, False, False, False, False],\n",
       "        [False, False, False, False, False, False, False, False],\n",
       "        [ True, False, False, False, False, False, False, False]])"
      ]
     },
     "execution_count": 13,
     "metadata": {},
     "output_type": "execute_result"
    }
   ],
   "execution_count": 13
  },
  {
   "metadata": {
    "ExecuteTime": {
     "end_time": "2025-05-16T22:06:42.139093Z",
     "start_time": "2025-05-16T22:06:42.133415Z"
    }
   },
   "cell_type": "code",
   "source": "torch.sum(masked!=-100)",
   "id": "269efb2dc36c92b8",
   "outputs": [
    {
     "data": {
      "text/plain": [
       "tensor(10)"
      ]
     },
     "execution_count": 99,
     "metadata": {},
     "output_type": "execute_result"
    }
   ],
   "execution_count": 99
  },
  {
   "metadata": {},
   "cell_type": "code",
   "outputs": [],
   "execution_count": null,
   "source": "",
   "id": "488834e1a6fc5a1e"
  }
 ],
 "metadata": {
  "kernelspec": {
   "display_name": "Python 3 (ipykernel)",
   "language": "python",
   "name": "python3"
  },
  "language_info": {
   "codemirror_mode": {
    "name": "ipython",
    "version": 3
   },
   "file_extension": ".py",
   "mimetype": "text/x-python",
   "name": "python",
   "nbconvert_exporter": "python",
   "pygments_lexer": "ipython3",
   "version": "3.10.16"
  }
 },
 "nbformat": 4,
 "nbformat_minor": 5
}
